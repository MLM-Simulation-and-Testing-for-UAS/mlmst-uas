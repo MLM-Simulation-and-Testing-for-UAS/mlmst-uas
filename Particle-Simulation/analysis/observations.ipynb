{
 "cells": [
  {
   "cell_type": "code",
   "execution_count": 2,
   "metadata": {},
   "outputs": [],
   "source": [
    "# %matplotlib\n",
    "import matplotlib.pyplot as plt\n",
    "import matplotlib.patches as mpatches\n",
    "\n",
    "import pandas as pd\n",
    "import numpy as np\n",
    "\n",
    "import os\n",
    "from itertools import product\n",
    "\n",
    "from pandas import DataFrame\n",
    "from numpy import ndarray"
   ]
  },
  {
   "cell_type": "code",
   "execution_count": 9,
   "metadata": {},
   "outputs": [
    {
     "data": {
      "text/plain": [
       "154.0"
      ]
     },
     "execution_count": 9,
     "metadata": {},
     "output_type": "execute_result"
    }
   ],
   "source": [
    "min_heli_speed_mph = 105.0\n",
    "max_heli_speed_mph = 125.0 \n",
    "min_heli_speed_fps = round(min_heli_speed_mph * 1.46667, 2)\n",
    "max_heli_speed_fps = round(max_heli_speed_mph * 1.46667, 2)\n",
    "min_heli_speed_fps"
   ]
  },
  {
   "cell_type": "code",
   "execution_count": 3,
   "metadata": {},
   "outputs": [],
   "source": [
    "PATH = \"./tables\"\n",
    "\n",
    "scenarios = [\n",
    "    \"converging\",\n",
    "    \"headon\",\n",
    "    \"overtaking\"\n",
    "]\n",
    "\n",
    "variations = [\n",
    "    \"horizontal\",\n",
    "    \"vertical\",\n",
    "]\n",
    "\n",
    "subvariations = [\n",
    "    \"norm\"\n",
    "]"
   ]
  },
  {
   "cell_type": "code",
   "execution_count": 19,
   "metadata": {},
   "outputs": [
    {
     "name": "stdout",
     "output_type": "stream",
     "text": [
      "converging-norm-horizontal-violations-safe.csv 3800.0 of 4000.0\n",
      "converging-norm-vertical-violations-safe.csv 5500.0 of 5500.0\n",
      "headon-norm-horizontal-violations-safe.csv 7500.0 of 8000.0\n",
      "headon-norm-vertical-violations-safe.csv 8000.0 of 8000.0\n",
      "overtaking-norm-horizontal-violations-safe.csv 7700.0 of 8000.0\n",
      "overtaking-norm-vertical-violations-safe.csv 5500.0 of 5500.0\n"
     ]
    }
   ],
   "source": [
    "for scene, variation, sub in product(scenarios, variations, subvariations):\n",
    "    title = f\"{scene}-{sub}-{variation}-violations-safe.csv\"\n",
    "    \n",
    "    df = pd.read_csv(f\"{PATH}/{title}\")\n",
    "    \n",
    "    h = \"drone_horizontal_turn_rate\"\n",
    "    v = \"drone_ascent_rate\"\n",
    "    \n",
    "    key = h if h in df.columns else v\n",
    "    \n",
    "    df = df.groupby([\"drone_speed\", key]).agg(\n",
    "        min_dist = (\"drone_response_distance\", \"min\"),\n",
    "        max_dist = (\"drone_response_distance\", \"max\"),\n",
    "        maxmin_heli = (\"min_heli_speed\", \"max\"), # stupid but w/e\n",
    "        minmax_heli = (\"max_heli_speed\", \"min\"),\n",
    "    )\n",
    "    \n",
    "    # print(title, df.min_dist.max(), df.maxmin_heli.min())\n",
    "    print(title, df.min_dist.max(), \"of\", df.max_dist.max())\n",
    "    # input(\"press enter\")"
   ]
  }
 ],
 "metadata": {
  "kernelspec": {
   "display_name": "Python 3",
   "language": "python",
   "name": "python3"
  },
  "language_info": {
   "codemirror_mode": {
    "name": "ipython",
    "version": 3
   },
   "file_extension": ".py",
   "mimetype": "text/x-python",
   "name": "python",
   "nbconvert_exporter": "python",
   "pygments_lexer": "ipython3",
   "version": "3.11.1"
  }
 },
 "nbformat": 4,
 "nbformat_minor": 2
}
