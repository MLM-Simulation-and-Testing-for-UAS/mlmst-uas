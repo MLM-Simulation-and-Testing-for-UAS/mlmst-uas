{
 "cells": [
  {
   "cell_type": "code",
   "execution_count": 51,
   "metadata": {},
   "outputs": [],
   "source": [
    "# %matplotlib\n",
    "import matplotlib.pyplot as plt\n",
    "import matplotlib.patches as mpatches\n",
    "\n",
    "import pandas as pd\n",
    "import numpy as np \n",
    "\n"
   ]
  },
  {
   "cell_type": "code",
   "execution_count": 55,
   "metadata": {},
   "outputs": [
    {
     "name": "stdout",
     "output_type": "stream",
     "text": [
      "step,contactLevel,contactEvents,drone_speed,drone_y_pos,heli_speed,drone_response_distance,drone_ascent_rate\n",
      "\n"
     ]
    }
   ],
   "source": [
    "PATH = \"../results/overtaking-norm-vertical-violations.csv\"\n",
    "with open(PATH, \"r\") as f:\n",
    "    print(f.readline())"
   ]
  },
  {
   "cell_type": "code",
   "execution_count": 56,
   "metadata": {},
   "outputs": [
    {
     "name": "stdout",
     "output_type": "stream",
     "text": [
      "11880\n"
     ]
    },
    {
     "data": {
      "text/html": [
       "<div>\n",
       "<style scoped>\n",
       "    .dataframe tbody tr th:only-of-type {\n",
       "        vertical-align: middle;\n",
       "    }\n",
       "\n",
       "    .dataframe tbody tr th {\n",
       "        vertical-align: top;\n",
       "    }\n",
       "\n",
       "    .dataframe thead th {\n",
       "        text-align: right;\n",
       "    }\n",
       "</style>\n",
       "<table border=\"1\" class=\"dataframe\">\n",
       "  <thead>\n",
       "    <tr style=\"text-align: right;\">\n",
       "      <th></th>\n",
       "      <th>step</th>\n",
       "      <th>contactLevel</th>\n",
       "      <th>contactEvents</th>\n",
       "      <th>drone_speed</th>\n",
       "      <th>drone_y_pos</th>\n",
       "      <th>heli_speed</th>\n",
       "      <th>drone_response_distance</th>\n",
       "      <th>drone_ascent_rate</th>\n",
       "      <th>is_violation</th>\n",
       "    </tr>\n",
       "  </thead>\n",
       "  <tbody>\n",
       "    <tr>\n",
       "      <th>0</th>\n",
       "      <td>1039</td>\n",
       "      <td>none</td>\n",
       "      <td>ContactEvent[]</td>\n",
       "      <td>30.0</td>\n",
       "      <td>2500.0</td>\n",
       "      <td>105.0</td>\n",
       "      <td>3500.0</td>\n",
       "      <td>-14.2</td>\n",
       "      <td>0</td>\n",
       "    </tr>\n",
       "    <tr>\n",
       "      <th>1</th>\n",
       "      <td>1039</td>\n",
       "      <td>none</td>\n",
       "      <td>ContactEvent[]</td>\n",
       "      <td>35.0</td>\n",
       "      <td>2500.0</td>\n",
       "      <td>105.0</td>\n",
       "      <td>3500.0</td>\n",
       "      <td>-14.2</td>\n",
       "      <td>0</td>\n",
       "    </tr>\n",
       "    <tr>\n",
       "      <th>2</th>\n",
       "      <td>1039</td>\n",
       "      <td>none</td>\n",
       "      <td>ContactEvent[]</td>\n",
       "      <td>40.0</td>\n",
       "      <td>2500.0</td>\n",
       "      <td>105.0</td>\n",
       "      <td>3500.0</td>\n",
       "      <td>-14.2</td>\n",
       "      <td>0</td>\n",
       "    </tr>\n",
       "    <tr>\n",
       "      <th>3</th>\n",
       "      <td>1039</td>\n",
       "      <td>none</td>\n",
       "      <td>ContactEvent[]</td>\n",
       "      <td>45.0</td>\n",
       "      <td>2500.0</td>\n",
       "      <td>105.0</td>\n",
       "      <td>3500.0</td>\n",
       "      <td>-14.2</td>\n",
       "      <td>0</td>\n",
       "    </tr>\n",
       "    <tr>\n",
       "      <th>4</th>\n",
       "      <td>1039</td>\n",
       "      <td>violation</td>\n",
       "      <td>ContactEvent[ContactEvent((Vehicle(1, (15999.9...</td>\n",
       "      <td>50.0</td>\n",
       "      <td>2500.0</td>\n",
       "      <td>105.0</td>\n",
       "      <td>3500.0</td>\n",
       "      <td>-14.2</td>\n",
       "      <td>1</td>\n",
       "    </tr>\n",
       "    <tr>\n",
       "      <th>...</th>\n",
       "      <td>...</td>\n",
       "      <td>...</td>\n",
       "      <td>...</td>\n",
       "      <td>...</td>\n",
       "      <td>...</td>\n",
       "      <td>...</td>\n",
       "      <td>...</td>\n",
       "      <td>...</td>\n",
       "      <td>...</td>\n",
       "    </tr>\n",
       "    <tr>\n",
       "      <th>11875</th>\n",
       "      <td>1039</td>\n",
       "      <td>violation</td>\n",
       "      <td>ContactEvent[ContactEvent((Vehicle(1, (14513.7...</td>\n",
       "      <td>30.0</td>\n",
       "      <td>4000.0</td>\n",
       "      <td>125.0</td>\n",
       "      <td>5500.0</td>\n",
       "      <td>-8.2</td>\n",
       "      <td>1</td>\n",
       "    </tr>\n",
       "    <tr>\n",
       "      <th>11876</th>\n",
       "      <td>1039</td>\n",
       "      <td>violation</td>\n",
       "      <td>ContactEvent[ContactEvent((Vehicle(1, (15284.7...</td>\n",
       "      <td>35.0</td>\n",
       "      <td>4000.0</td>\n",
       "      <td>125.0</td>\n",
       "      <td>5500.0</td>\n",
       "      <td>-8.2</td>\n",
       "      <td>1</td>\n",
       "    </tr>\n",
       "    <tr>\n",
       "      <th>11877</th>\n",
       "      <td>1039</td>\n",
       "      <td>none</td>\n",
       "      <td>ContactEvent[]</td>\n",
       "      <td>40.0</td>\n",
       "      <td>4000.0</td>\n",
       "      <td>125.0</td>\n",
       "      <td>5500.0</td>\n",
       "      <td>-8.2</td>\n",
       "      <td>0</td>\n",
       "    </tr>\n",
       "    <tr>\n",
       "      <th>11878</th>\n",
       "      <td>1039</td>\n",
       "      <td>none</td>\n",
       "      <td>ContactEvent[]</td>\n",
       "      <td>45.0</td>\n",
       "      <td>4000.0</td>\n",
       "      <td>125.0</td>\n",
       "      <td>5500.0</td>\n",
       "      <td>-8.2</td>\n",
       "      <td>0</td>\n",
       "    </tr>\n",
       "    <tr>\n",
       "      <th>11879</th>\n",
       "      <td>1039</td>\n",
       "      <td>none</td>\n",
       "      <td>ContactEvent[]</td>\n",
       "      <td>50.0</td>\n",
       "      <td>4000.0</td>\n",
       "      <td>125.0</td>\n",
       "      <td>5500.0</td>\n",
       "      <td>-8.2</td>\n",
       "      <td>0</td>\n",
       "    </tr>\n",
       "  </tbody>\n",
       "</table>\n",
       "<p>11880 rows × 9 columns</p>\n",
       "</div>"
      ],
      "text/plain": [
       "       step contactLevel                                      contactEvents  \\\n",
       "0      1039         none                                     ContactEvent[]   \n",
       "1      1039         none                                     ContactEvent[]   \n",
       "2      1039         none                                     ContactEvent[]   \n",
       "3      1039         none                                     ContactEvent[]   \n",
       "4      1039    violation  ContactEvent[ContactEvent((Vehicle(1, (15999.9...   \n",
       "...     ...          ...                                                ...   \n",
       "11875  1039    violation  ContactEvent[ContactEvent((Vehicle(1, (14513.7...   \n",
       "11876  1039    violation  ContactEvent[ContactEvent((Vehicle(1, (15284.7...   \n",
       "11877  1039         none                                     ContactEvent[]   \n",
       "11878  1039         none                                     ContactEvent[]   \n",
       "11879  1039         none                                     ContactEvent[]   \n",
       "\n",
       "       drone_speed  drone_y_pos  heli_speed  drone_response_distance  \\\n",
       "0             30.0       2500.0       105.0                   3500.0   \n",
       "1             35.0       2500.0       105.0                   3500.0   \n",
       "2             40.0       2500.0       105.0                   3500.0   \n",
       "3             45.0       2500.0       105.0                   3500.0   \n",
       "4             50.0       2500.0       105.0                   3500.0   \n",
       "...            ...          ...         ...                      ...   \n",
       "11875         30.0       4000.0       125.0                   5500.0   \n",
       "11876         35.0       4000.0       125.0                   5500.0   \n",
       "11877         40.0       4000.0       125.0                   5500.0   \n",
       "11878         45.0       4000.0       125.0                   5500.0   \n",
       "11879         50.0       4000.0       125.0                   5500.0   \n",
       "\n",
       "       drone_ascent_rate  is_violation  \n",
       "0                  -14.2             0  \n",
       "1                  -14.2             0  \n",
       "2                  -14.2             0  \n",
       "3                  -14.2             0  \n",
       "4                  -14.2             1  \n",
       "...                  ...           ...  \n",
       "11875               -8.2             1  \n",
       "11876               -8.2             1  \n",
       "11877               -8.2             0  \n",
       "11878               -8.2             0  \n",
       "11879               -8.2             0  \n",
       "\n",
       "[11880 rows x 9 columns]"
      ]
     },
     "execution_count": 56,
     "metadata": {},
     "output_type": "execute_result"
    }
   ],
   "source": [
    "all_exps = pd.read_csv(PATH)#.drop_duplicates()\n",
    "print(all_exps.shape[0])\n",
    "all_exps['is_violation'] = np.where(\n",
    "    (all_exps['contactLevel'] != 'none') | (\"violation\" in all_exps['contactEvents']) | (\"collision\" in all_exps['contactEvents']), \n",
    "    1, 0)\n",
    "# violations = all_exps[(all_exps['contactLevel'] == 'violation') | (all_exps['contactLevel'] == 'collision')]\n",
    "# violations.columns\n",
    "all_exps = all_exps.round(2)\n",
    "all_exps"
   ]
  },
  {
   "cell_type": "code",
   "execution_count": 57,
   "metadata": {},
   "outputs": [],
   "source": [
    "# dups = violations.groupby([col for col in violations.columns], as_index=False).size()\n",
    "# violations = violations.drop_duplicates()\n",
    "# dups['size']"
   ]
  },
  {
   "cell_type": "code",
   "execution_count": 58,
   "metadata": {},
   "outputs": [],
   "source": [
    "def add_temp_legend(values, element, ax):\n",
    "    np.unique(values)[::-1].sort()\n",
    "    colors = [ element.cmap(element.norm(value)) for value in values]\n",
    "    # create a patch (proxy artist) for every color \n",
    "    patches = [ mpatches.Patch(color=colors[i], label=\"{l} violations\".format(l=values[i]) ) for i in range(len(values)) ]\n",
    "        \n",
    "    ax.legend(handles=patches, bbox_to_anchor=(1.05, 1), loc=2, borderaxespad=0.0)\n",
    "\n",
    "def heatmap(df: pd.DataFrame, x_key: str, y_key: str, title:str, skip_count_x=0, skip_count_y=0, **kwargs):\n",
    "    df = df.groupby([x_key,y_key], as_index=False).agg({'is_violation': np.sum})\n",
    "    df = df.pivot(columns=x_key, index=y_key, values=\"is_violation\")\n",
    "    \n",
    "    fig, ax = plt.subplots()\n",
    "    im = ax.imshow(np.flip(df.to_numpy(), 0), **kwargs)\n",
    "    ax.set_title(title)\n",
    "    ax.set_xlabel(x_key)\n",
    "    ax.set_ylabel(y_key)\n",
    "    \n",
    "    ax.set_xticks(np.arange(0, len(df.columns), 1)[::(skip_count_x + 1)])\n",
    "    ax.set_yticks(np.arange(0, len(df.index), 1)[::-(skip_count_y + 1)])\n",
    "    ax.set_xticklabels(list(map(lambda v: round(v, 2), df.columns[::(skip_count_x + 1)])))\n",
    "    ax.set_yticklabels(list(map(lambda v: round(v, 2), df.index[::(skip_count_y + 1)])))\n",
    "    \n",
    "    values = np.unique(df.to_numpy().flatten())\n",
    "    \n",
    "    add_temp_legend(values, im, ax)\n",
    "    \n",
    "    \n",
    "    \n",
    "def isolate(df: pd.DataFrame, cols: dict): # keys:list[str], values:list\n",
    "    exp = None\n",
    "    for k, v in cols.items():\n",
    "        if exp is None:\n",
    "            exp = df[k] == v\n",
    "        else:\n",
    "            exp &= df[k] == v\n",
    "            \n",
    "    return df[exp]\n",
    "    "
   ]
  },
  {
   "cell_type": "code",
   "execution_count": 59,
   "metadata": {},
   "outputs": [
    {
     "data": {
      "text/plain": [
       "[7, 6, 5, 4, 3, 2, 1]"
      ]
     },
     "execution_count": 59,
     "metadata": {},
     "output_type": "execute_result"
    }
   ],
   "source": [
    "a = [1, 2, 3, 4, 5, 6, 7]\n",
    "a[::3]\n",
    "\n",
    "list(map(lambda v: round(v, 2), a[::-(0 + 1)]))"
   ]
  },
  {
   "cell_type": "code",
   "execution_count": 60,
   "metadata": {},
   "outputs": [],
   "source": [
    "heatmap(all_exps, \"drone_speed\", \"drone_ascent_rate\", \"converging-on vertical collisions\")\n"
   ]
  },
  {
   "cell_type": "code",
   "execution_count": 61,
   "metadata": {},
   "outputs": [],
   "source": [
    "# isolate(all_exps, {\"is_violation\": 1, \"drone_speed\": 38.584500, \"drone_ascent_rate\": 20.0})\n"
   ]
  },
  {
   "cell_type": "markdown",
   "metadata": {},
   "source": [
    "Commenting on the figure above, top-right is the highest turn radius, which means\n",
    "that the drone will be closer to the helicopter"
   ]
  },
  {
   "cell_type": "code",
   "execution_count": 62,
   "metadata": {},
   "outputs": [
    {
     "data": {
      "text/plain": [
       "array([3500., 3700., 3900., 4100., 4300., 4500., 4700., 4900., 5100.,\n",
       "       5300., 5500.])"
      ]
     },
     "execution_count": 62,
     "metadata": {},
     "output_type": "execute_result"
    }
   ],
   "source": [
    "all_exps.drone_response_distance.unique()"
   ]
  },
  {
   "cell_type": "code",
   "execution_count": 63,
   "metadata": {},
   "outputs": [],
   "source": [
    "# tmp = all_exps[all_exps['drone_y_pos'] <= 2000]#[all_exps['drone_ascent_rate'] > 35]\n",
    "# tmp = isolate(tmp, {\"drone_ascent_rate\": 30})\n",
    "heatmap(all_exps, \"drone_response_distance\", \"drone_speed\", \"converging vertical collisions\", skip_count_x=2)"
   ]
  },
  {
   "cell_type": "code",
   "execution_count": 64,
   "metadata": {},
   "outputs": [
    {
     "data": {
      "text/plain": [
       "step                       0\n",
       "contactLevel               0\n",
       "contactEvents              0\n",
       "drone_speed                0\n",
       "drone_y_pos                0\n",
       "heli_speed                 0\n",
       "drone_response_distance    0\n",
       "drone_ascent_rate          0\n",
       "is_violation               0\n",
       "dtype: int64"
      ]
     },
     "execution_count": 64,
     "metadata": {},
     "output_type": "execute_result"
    }
   ],
   "source": [
    "isolate(all_exps, {\n",
    "    \"drone_response_distance\": 2000, \"drone_speed\": 43.66, \"is_violation\": 1\n",
    "}).count()"
   ]
  },
  {
   "cell_type": "markdown",
   "metadata": {},
   "source": [
    "Commenting on the figure above, the bottom left"
   ]
  },
  {
   "cell_type": "code",
   "execution_count": null,
   "metadata": {},
   "outputs": [],
   "source": []
  },
  {
   "cell_type": "code",
   "execution_count": 65,
   "metadata": {},
   "outputs": [
    {
     "data": {
      "text/html": [
       "<div>\n",
       "<style scoped>\n",
       "    .dataframe tbody tr th:only-of-type {\n",
       "        vertical-align: middle;\n",
       "    }\n",
       "\n",
       "    .dataframe tbody tr th {\n",
       "        vertical-align: top;\n",
       "    }\n",
       "\n",
       "    .dataframe thead th {\n",
       "        text-align: right;\n",
       "    }\n",
       "</style>\n",
       "<table border=\"1\" class=\"dataframe\">\n",
       "  <thead>\n",
       "    <tr style=\"text-align: right;\">\n",
       "      <th></th>\n",
       "      <th>step</th>\n",
       "      <th>drone_speed</th>\n",
       "      <th>drone_y_pos</th>\n",
       "      <th>heli_speed</th>\n",
       "      <th>drone_response_distance</th>\n",
       "      <th>drone_ascent_rate</th>\n",
       "      <th>is_violation</th>\n",
       "    </tr>\n",
       "  </thead>\n",
       "  <tbody>\n",
       "    <tr>\n",
       "      <th>count</th>\n",
       "      <td>0.0</td>\n",
       "      <td>0.0</td>\n",
       "      <td>0.0</td>\n",
       "      <td>0.0</td>\n",
       "      <td>0.0</td>\n",
       "      <td>0.0</td>\n",
       "      <td>0.0</td>\n",
       "    </tr>\n",
       "    <tr>\n",
       "      <th>mean</th>\n",
       "      <td>NaN</td>\n",
       "      <td>NaN</td>\n",
       "      <td>NaN</td>\n",
       "      <td>NaN</td>\n",
       "      <td>NaN</td>\n",
       "      <td>NaN</td>\n",
       "      <td>NaN</td>\n",
       "    </tr>\n",
       "    <tr>\n",
       "      <th>std</th>\n",
       "      <td>NaN</td>\n",
       "      <td>NaN</td>\n",
       "      <td>NaN</td>\n",
       "      <td>NaN</td>\n",
       "      <td>NaN</td>\n",
       "      <td>NaN</td>\n",
       "      <td>NaN</td>\n",
       "    </tr>\n",
       "    <tr>\n",
       "      <th>min</th>\n",
       "      <td>NaN</td>\n",
       "      <td>NaN</td>\n",
       "      <td>NaN</td>\n",
       "      <td>NaN</td>\n",
       "      <td>NaN</td>\n",
       "      <td>NaN</td>\n",
       "      <td>NaN</td>\n",
       "    </tr>\n",
       "    <tr>\n",
       "      <th>25%</th>\n",
       "      <td>NaN</td>\n",
       "      <td>NaN</td>\n",
       "      <td>NaN</td>\n",
       "      <td>NaN</td>\n",
       "      <td>NaN</td>\n",
       "      <td>NaN</td>\n",
       "      <td>NaN</td>\n",
       "    </tr>\n",
       "    <tr>\n",
       "      <th>50%</th>\n",
       "      <td>NaN</td>\n",
       "      <td>NaN</td>\n",
       "      <td>NaN</td>\n",
       "      <td>NaN</td>\n",
       "      <td>NaN</td>\n",
       "      <td>NaN</td>\n",
       "      <td>NaN</td>\n",
       "    </tr>\n",
       "    <tr>\n",
       "      <th>75%</th>\n",
       "      <td>NaN</td>\n",
       "      <td>NaN</td>\n",
       "      <td>NaN</td>\n",
       "      <td>NaN</td>\n",
       "      <td>NaN</td>\n",
       "      <td>NaN</td>\n",
       "      <td>NaN</td>\n",
       "    </tr>\n",
       "    <tr>\n",
       "      <th>max</th>\n",
       "      <td>NaN</td>\n",
       "      <td>NaN</td>\n",
       "      <td>NaN</td>\n",
       "      <td>NaN</td>\n",
       "      <td>NaN</td>\n",
       "      <td>NaN</td>\n",
       "      <td>NaN</td>\n",
       "    </tr>\n",
       "  </tbody>\n",
       "</table>\n",
       "</div>"
      ],
      "text/plain": [
       "       step  drone_speed  drone_y_pos  heli_speed  drone_response_distance  \\\n",
       "count   0.0          0.0          0.0         0.0                      0.0   \n",
       "mean    NaN          NaN          NaN         NaN                      NaN   \n",
       "std     NaN          NaN          NaN         NaN                      NaN   \n",
       "min     NaN          NaN          NaN         NaN                      NaN   \n",
       "25%     NaN          NaN          NaN         NaN                      NaN   \n",
       "50%     NaN          NaN          NaN         NaN                      NaN   \n",
       "75%     NaN          NaN          NaN         NaN                      NaN   \n",
       "max     NaN          NaN          NaN         NaN                      NaN   \n",
       "\n",
       "       drone_ascent_rate  is_violation  \n",
       "count                0.0           0.0  \n",
       "mean                 NaN           NaN  \n",
       "std                  NaN           NaN  \n",
       "min                  NaN           NaN  \n",
       "25%                  NaN           NaN  \n",
       "50%                  NaN           NaN  \n",
       "75%                  NaN           NaN  \n",
       "max                  NaN           NaN  "
      ]
     },
     "execution_count": 65,
     "metadata": {},
     "output_type": "execute_result"
    }
   ],
   "source": [
    "all_exps[(all_exps['drone_response_distance'] == 1200) & (all_exps['drone_speed'] == 20)].describe()"
   ]
  },
  {
   "cell_type": "code",
   "execution_count": 66,
   "metadata": {},
   "outputs": [],
   "source": [
    "tmp = all_exps#[all_exps['drone_y_pos'] <= 2000]\n",
    "# tmp = isolate(tmp, {\"drone_speed\": 20})\n",
    "heatmap(tmp, \"drone_response_distance\", \"drone_ascent_rate\", \"head-on collisions\", skip_count_x=1)\n"
   ]
  },
  {
   "cell_type": "markdown",
   "metadata": {},
   "source": [
    "3D, visualizing speed, rate of turn, and vis distance all in one"
   ]
  },
  {
   "cell_type": "code",
   "execution_count": 67,
   "metadata": {},
   "outputs": [],
   "source": [
    "def plot_point_cloud(df: pd.DataFrame, x_key: str, y_key: str, z_key: str, title: str, point_radius: float = None):\n",
    "    fig = plt.figure()\n",
    "    fig.set_figheight(10)\n",
    "    fig.set_figwidth(10)\n",
    "    ax = fig.add_subplot(projection='3d')\n",
    "    \n",
    "    x = df[x_key].unique()\n",
    "    x.sort()\n",
    "    y = df[y_key].unique()\n",
    "    y.sort()\n",
    "    z = df[z_key].unique()\n",
    "    z.sort()\n",
    "    \n",
    "    points = []\n",
    "    temps = []\n",
    "    \n",
    "    \n",
    "    for zi in z:\n",
    "        for yi in y:\n",
    "            for xi in x:\n",
    "                points.append((xi, yi, zi))\n",
    "                temps.append(isolate(df, {x_key:xi, y_key:yi, z_key:zi}).size)\n",
    "\n",
    "    s = point_radius ** 2 if point_radius else None\n",
    "\n",
    "    print(len(points), points)\n",
    "\n",
    "    scat = ax.scatter(*np.array(points).T, c=temps, alpha=0.7, s=s)\n",
    "    ax.set_xlabel(x_key)\n",
    "    ax.set_ylabel(y_key)\n",
    "    ax.set_zlabel(z_key)\n",
    "    ax.set_title(title)\n",
    "    \n",
    "        \n",
    "    \n",
    "    add_temp_legend(np.unique(np.array(temps[::-1]).flatten()), scat, ax)\n",
    "    "
   ]
  },
  {
   "cell_type": "code",
   "execution_count": 68,
   "metadata": {},
   "outputs": [
    {
     "data": {
      "text/plain": [
       "Index(['step', 'contactLevel', 'contactEvents', 'drone_speed', 'drone_y_pos',\n",
       "       'heli_speed', 'drone_response_distance', 'drone_ascent_rate',\n",
       "       'is_violation'],\n",
       "      dtype='object')"
      ]
     },
     "execution_count": 68,
     "metadata": {},
     "output_type": "execute_result"
    }
   ],
   "source": [
    "all_exps.columns"
   ]
  },
  {
   "cell_type": "code",
   "execution_count": 69,
   "metadata": {},
   "outputs": [
    {
     "name": "stdout",
     "output_type": "stream",
     "text": [
      "Using matplotlib backend: TkAgg\n"
     ]
    }
   ],
   "source": [
    "%matplotlib"
   ]
  },
  {
   "cell_type": "code",
   "execution_count": 70,
   "metadata": {},
   "outputs": [
    {
     "name": "stdout",
     "output_type": "stream",
     "text": [
      "495 [(30.0, -14.2, 3500.0), (35.0, -14.2, 3500.0), (40.0, -14.2, 3500.0), (45.0, -14.2, 3500.0), (50.0, -14.2, 3500.0), (30.0, -13.45, 3500.0), (35.0, -13.45, 3500.0), (40.0, -13.45, 3500.0), (45.0, -13.45, 3500.0), (50.0, -13.45, 3500.0), (30.0, -12.7, 3500.0), (35.0, -12.7, 3500.0), (40.0, -12.7, 3500.0), (45.0, -12.7, 3500.0), (50.0, -12.7, 3500.0), (30.0, -11.95, 3500.0), (35.0, -11.95, 3500.0), (40.0, -11.95, 3500.0), (45.0, -11.95, 3500.0), (50.0, -11.95, 3500.0), (30.0, -11.2, 3500.0), (35.0, -11.2, 3500.0), (40.0, -11.2, 3500.0), (45.0, -11.2, 3500.0), (50.0, -11.2, 3500.0), (30.0, -10.45, 3500.0), (35.0, -10.45, 3500.0), (40.0, -10.45, 3500.0), (45.0, -10.45, 3500.0), (50.0, -10.45, 3500.0), (30.0, -9.7, 3500.0), (35.0, -9.7, 3500.0), (40.0, -9.7, 3500.0), (45.0, -9.7, 3500.0), (50.0, -9.7, 3500.0), (30.0, -8.95, 3500.0), (35.0, -8.95, 3500.0), (40.0, -8.95, 3500.0), (45.0, -8.95, 3500.0), (50.0, -8.95, 3500.0), (30.0, -8.2, 3500.0), (35.0, -8.2, 3500.0), (40.0, -8.2, 3500.0), (45.0, -8.2, 3500.0), (50.0, -8.2, 3500.0), (30.0, -14.2, 3700.0), (35.0, -14.2, 3700.0), (40.0, -14.2, 3700.0), (45.0, -14.2, 3700.0), (50.0, -14.2, 3700.0), (30.0, -13.45, 3700.0), (35.0, -13.45, 3700.0), (40.0, -13.45, 3700.0), (45.0, -13.45, 3700.0), (50.0, -13.45, 3700.0), (30.0, -12.7, 3700.0), (35.0, -12.7, 3700.0), (40.0, -12.7, 3700.0), (45.0, -12.7, 3700.0), (50.0, -12.7, 3700.0), (30.0, -11.95, 3700.0), (35.0, -11.95, 3700.0), (40.0, -11.95, 3700.0), (45.0, -11.95, 3700.0), (50.0, -11.95, 3700.0), (30.0, -11.2, 3700.0), (35.0, -11.2, 3700.0), (40.0, -11.2, 3700.0), (45.0, -11.2, 3700.0), (50.0, -11.2, 3700.0), (30.0, -10.45, 3700.0), (35.0, -10.45, 3700.0), (40.0, -10.45, 3700.0), (45.0, -10.45, 3700.0), (50.0, -10.45, 3700.0), (30.0, -9.7, 3700.0), (35.0, -9.7, 3700.0), (40.0, -9.7, 3700.0), (45.0, -9.7, 3700.0), (50.0, -9.7, 3700.0), (30.0, -8.95, 3700.0), (35.0, -8.95, 3700.0), (40.0, -8.95, 3700.0), (45.0, -8.95, 3700.0), (50.0, -8.95, 3700.0), (30.0, -8.2, 3700.0), (35.0, -8.2, 3700.0), (40.0, -8.2, 3700.0), (45.0, -8.2, 3700.0), (50.0, -8.2, 3700.0), (30.0, -14.2, 3900.0), (35.0, -14.2, 3900.0), (40.0, -14.2, 3900.0), (45.0, -14.2, 3900.0), (50.0, -14.2, 3900.0), (30.0, -13.45, 3900.0), (35.0, -13.45, 3900.0), (40.0, -13.45, 3900.0), (45.0, -13.45, 3900.0), (50.0, -13.45, 3900.0), (30.0, -12.7, 3900.0), (35.0, -12.7, 3900.0), (40.0, -12.7, 3900.0), (45.0, -12.7, 3900.0), (50.0, -12.7, 3900.0), (30.0, -11.95, 3900.0), (35.0, -11.95, 3900.0), (40.0, -11.95, 3900.0), (45.0, -11.95, 3900.0), (50.0, -11.95, 3900.0), (30.0, -11.2, 3900.0), (35.0, -11.2, 3900.0), (40.0, -11.2, 3900.0), (45.0, -11.2, 3900.0), (50.0, -11.2, 3900.0), (30.0, -10.45, 3900.0), (35.0, -10.45, 3900.0), (40.0, -10.45, 3900.0), (45.0, -10.45, 3900.0), (50.0, -10.45, 3900.0), (30.0, -9.7, 3900.0), (35.0, -9.7, 3900.0), (40.0, -9.7, 3900.0), (45.0, -9.7, 3900.0), (50.0, -9.7, 3900.0), (30.0, -8.95, 3900.0), (35.0, -8.95, 3900.0), (40.0, -8.95, 3900.0), (45.0, -8.95, 3900.0), (50.0, -8.95, 3900.0), (30.0, -8.2, 3900.0), (35.0, -8.2, 3900.0), (40.0, -8.2, 3900.0), (45.0, -8.2, 3900.0), (50.0, -8.2, 3900.0), (30.0, -14.2, 4100.0), (35.0, -14.2, 4100.0), (40.0, -14.2, 4100.0), (45.0, -14.2, 4100.0), (50.0, -14.2, 4100.0), (30.0, -13.45, 4100.0), (35.0, -13.45, 4100.0), (40.0, -13.45, 4100.0), (45.0, -13.45, 4100.0), (50.0, -13.45, 4100.0), (30.0, -12.7, 4100.0), (35.0, -12.7, 4100.0), (40.0, -12.7, 4100.0), (45.0, -12.7, 4100.0), (50.0, -12.7, 4100.0), (30.0, -11.95, 4100.0), (35.0, -11.95, 4100.0), (40.0, -11.95, 4100.0), (45.0, -11.95, 4100.0), (50.0, -11.95, 4100.0), (30.0, -11.2, 4100.0), (35.0, -11.2, 4100.0), (40.0, -11.2, 4100.0), (45.0, -11.2, 4100.0), (50.0, -11.2, 4100.0), (30.0, -10.45, 4100.0), (35.0, -10.45, 4100.0), (40.0, -10.45, 4100.0), (45.0, -10.45, 4100.0), (50.0, -10.45, 4100.0), (30.0, -9.7, 4100.0), (35.0, -9.7, 4100.0), (40.0, -9.7, 4100.0), (45.0, -9.7, 4100.0), (50.0, -9.7, 4100.0), (30.0, -8.95, 4100.0), (35.0, -8.95, 4100.0), (40.0, -8.95, 4100.0), (45.0, -8.95, 4100.0), (50.0, -8.95, 4100.0), (30.0, -8.2, 4100.0), (35.0, -8.2, 4100.0), (40.0, -8.2, 4100.0), (45.0, -8.2, 4100.0), (50.0, -8.2, 4100.0), (30.0, -14.2, 4300.0), (35.0, -14.2, 4300.0), (40.0, -14.2, 4300.0), (45.0, -14.2, 4300.0), (50.0, -14.2, 4300.0), (30.0, -13.45, 4300.0), (35.0, -13.45, 4300.0), (40.0, -13.45, 4300.0), (45.0, -13.45, 4300.0), (50.0, -13.45, 4300.0), (30.0, -12.7, 4300.0), (35.0, -12.7, 4300.0), (40.0, -12.7, 4300.0), (45.0, -12.7, 4300.0), (50.0, -12.7, 4300.0), (30.0, -11.95, 4300.0), (35.0, -11.95, 4300.0), (40.0, -11.95, 4300.0), (45.0, -11.95, 4300.0), (50.0, -11.95, 4300.0), (30.0, -11.2, 4300.0), (35.0, -11.2, 4300.0), (40.0, -11.2, 4300.0), (45.0, -11.2, 4300.0), (50.0, -11.2, 4300.0), (30.0, -10.45, 4300.0), (35.0, -10.45, 4300.0), (40.0, -10.45, 4300.0), (45.0, -10.45, 4300.0), (50.0, -10.45, 4300.0), (30.0, -9.7, 4300.0), (35.0, -9.7, 4300.0), (40.0, -9.7, 4300.0), (45.0, -9.7, 4300.0), (50.0, -9.7, 4300.0), (30.0, -8.95, 4300.0), (35.0, -8.95, 4300.0), (40.0, -8.95, 4300.0), (45.0, -8.95, 4300.0), (50.0, -8.95, 4300.0), (30.0, -8.2, 4300.0), (35.0, -8.2, 4300.0), (40.0, -8.2, 4300.0), (45.0, -8.2, 4300.0), (50.0, -8.2, 4300.0), (30.0, -14.2, 4500.0), (35.0, -14.2, 4500.0), (40.0, -14.2, 4500.0), (45.0, -14.2, 4500.0), (50.0, -14.2, 4500.0), (30.0, -13.45, 4500.0), (35.0, -13.45, 4500.0), (40.0, -13.45, 4500.0), (45.0, -13.45, 4500.0), (50.0, -13.45, 4500.0), (30.0, -12.7, 4500.0), (35.0, -12.7, 4500.0), (40.0, -12.7, 4500.0), (45.0, -12.7, 4500.0), (50.0, -12.7, 4500.0), (30.0, -11.95, 4500.0), (35.0, -11.95, 4500.0), (40.0, -11.95, 4500.0), (45.0, -11.95, 4500.0), (50.0, -11.95, 4500.0), (30.0, -11.2, 4500.0), (35.0, -11.2, 4500.0), (40.0, -11.2, 4500.0), (45.0, -11.2, 4500.0), (50.0, -11.2, 4500.0), (30.0, -10.45, 4500.0), (35.0, -10.45, 4500.0), (40.0, -10.45, 4500.0), (45.0, -10.45, 4500.0), (50.0, -10.45, 4500.0), (30.0, -9.7, 4500.0), (35.0, -9.7, 4500.0), (40.0, -9.7, 4500.0), (45.0, -9.7, 4500.0), (50.0, -9.7, 4500.0), (30.0, -8.95, 4500.0), (35.0, -8.95, 4500.0), (40.0, -8.95, 4500.0), (45.0, -8.95, 4500.0), (50.0, -8.95, 4500.0), (30.0, -8.2, 4500.0), (35.0, -8.2, 4500.0), (40.0, -8.2, 4500.0), (45.0, -8.2, 4500.0), (50.0, -8.2, 4500.0), (30.0, -14.2, 4700.0), (35.0, -14.2, 4700.0), (40.0, -14.2, 4700.0), (45.0, -14.2, 4700.0), (50.0, -14.2, 4700.0), (30.0, -13.45, 4700.0), (35.0, -13.45, 4700.0), (40.0, -13.45, 4700.0), (45.0, -13.45, 4700.0), (50.0, -13.45, 4700.0), (30.0, -12.7, 4700.0), (35.0, -12.7, 4700.0), (40.0, -12.7, 4700.0), (45.0, -12.7, 4700.0), (50.0, -12.7, 4700.0), (30.0, -11.95, 4700.0), (35.0, -11.95, 4700.0), (40.0, -11.95, 4700.0), (45.0, -11.95, 4700.0), (50.0, -11.95, 4700.0), (30.0, -11.2, 4700.0), (35.0, -11.2, 4700.0), (40.0, -11.2, 4700.0), (45.0, -11.2, 4700.0), (50.0, -11.2, 4700.0), (30.0, -10.45, 4700.0), (35.0, -10.45, 4700.0), (40.0, -10.45, 4700.0), (45.0, -10.45, 4700.0), (50.0, -10.45, 4700.0), (30.0, -9.7, 4700.0), (35.0, -9.7, 4700.0), (40.0, -9.7, 4700.0), (45.0, -9.7, 4700.0), (50.0, -9.7, 4700.0), (30.0, -8.95, 4700.0), (35.0, -8.95, 4700.0), (40.0, -8.95, 4700.0), (45.0, -8.95, 4700.0), (50.0, -8.95, 4700.0), (30.0, -8.2, 4700.0), (35.0, -8.2, 4700.0), (40.0, -8.2, 4700.0), (45.0, -8.2, 4700.0), (50.0, -8.2, 4700.0), (30.0, -14.2, 4900.0), (35.0, -14.2, 4900.0), (40.0, -14.2, 4900.0), (45.0, -14.2, 4900.0), (50.0, -14.2, 4900.0), (30.0, -13.45, 4900.0), (35.0, -13.45, 4900.0), (40.0, -13.45, 4900.0), (45.0, -13.45, 4900.0), (50.0, -13.45, 4900.0), (30.0, -12.7, 4900.0), (35.0, -12.7, 4900.0), (40.0, -12.7, 4900.0), (45.0, -12.7, 4900.0), (50.0, -12.7, 4900.0), (30.0, -11.95, 4900.0), (35.0, -11.95, 4900.0), (40.0, -11.95, 4900.0), (45.0, -11.95, 4900.0), (50.0, -11.95, 4900.0), (30.0, -11.2, 4900.0), (35.0, -11.2, 4900.0), (40.0, -11.2, 4900.0), (45.0, -11.2, 4900.0), (50.0, -11.2, 4900.0), (30.0, -10.45, 4900.0), (35.0, -10.45, 4900.0), (40.0, -10.45, 4900.0), (45.0, -10.45, 4900.0), (50.0, -10.45, 4900.0), (30.0, -9.7, 4900.0), (35.0, -9.7, 4900.0), (40.0, -9.7, 4900.0), (45.0, -9.7, 4900.0), (50.0, -9.7, 4900.0), (30.0, -8.95, 4900.0), (35.0, -8.95, 4900.0), (40.0, -8.95, 4900.0), (45.0, -8.95, 4900.0), (50.0, -8.95, 4900.0), (30.0, -8.2, 4900.0), (35.0, -8.2, 4900.0), (40.0, -8.2, 4900.0), (45.0, -8.2, 4900.0), (50.0, -8.2, 4900.0), (30.0, -14.2, 5100.0), (35.0, -14.2, 5100.0), (40.0, -14.2, 5100.0), (45.0, -14.2, 5100.0), (50.0, -14.2, 5100.0), (30.0, -13.45, 5100.0), (35.0, -13.45, 5100.0), (40.0, -13.45, 5100.0), (45.0, -13.45, 5100.0), (50.0, -13.45, 5100.0), (30.0, -12.7, 5100.0), (35.0, -12.7, 5100.0), (40.0, -12.7, 5100.0), (45.0, -12.7, 5100.0), (50.0, -12.7, 5100.0), (30.0, -11.95, 5100.0), (35.0, -11.95, 5100.0), (40.0, -11.95, 5100.0), (45.0, -11.95, 5100.0), (50.0, -11.95, 5100.0), (30.0, -11.2, 5100.0), (35.0, -11.2, 5100.0), (40.0, -11.2, 5100.0), (45.0, -11.2, 5100.0), (50.0, -11.2, 5100.0), (30.0, -10.45, 5100.0), (35.0, -10.45, 5100.0), (40.0, -10.45, 5100.0), (45.0, -10.45, 5100.0), (50.0, -10.45, 5100.0), (30.0, -9.7, 5100.0), (35.0, -9.7, 5100.0), (40.0, -9.7, 5100.0), (45.0, -9.7, 5100.0), (50.0, -9.7, 5100.0), (30.0, -8.95, 5100.0), (35.0, -8.95, 5100.0), (40.0, -8.95, 5100.0), (45.0, -8.95, 5100.0), (50.0, -8.95, 5100.0), (30.0, -8.2, 5100.0), (35.0, -8.2, 5100.0), (40.0, -8.2, 5100.0), (45.0, -8.2, 5100.0), (50.0, -8.2, 5100.0), (30.0, -14.2, 5300.0), (35.0, -14.2, 5300.0), (40.0, -14.2, 5300.0), (45.0, -14.2, 5300.0), (50.0, -14.2, 5300.0), (30.0, -13.45, 5300.0), (35.0, -13.45, 5300.0), (40.0, -13.45, 5300.0), (45.0, -13.45, 5300.0), (50.0, -13.45, 5300.0), (30.0, -12.7, 5300.0), (35.0, -12.7, 5300.0), (40.0, -12.7, 5300.0), (45.0, -12.7, 5300.0), (50.0, -12.7, 5300.0), (30.0, -11.95, 5300.0), (35.0, -11.95, 5300.0), (40.0, -11.95, 5300.0), (45.0, -11.95, 5300.0), (50.0, -11.95, 5300.0), (30.0, -11.2, 5300.0), (35.0, -11.2, 5300.0), (40.0, -11.2, 5300.0), (45.0, -11.2, 5300.0), (50.0, -11.2, 5300.0), (30.0, -10.45, 5300.0), (35.0, -10.45, 5300.0), (40.0, -10.45, 5300.0), (45.0, -10.45, 5300.0), (50.0, -10.45, 5300.0), (30.0, -9.7, 5300.0), (35.0, -9.7, 5300.0), (40.0, -9.7, 5300.0), (45.0, -9.7, 5300.0), (50.0, -9.7, 5300.0), (30.0, -8.95, 5300.0), (35.0, -8.95, 5300.0), (40.0, -8.95, 5300.0), (45.0, -8.95, 5300.0), (50.0, -8.95, 5300.0), (30.0, -8.2, 5300.0), (35.0, -8.2, 5300.0), (40.0, -8.2, 5300.0), (45.0, -8.2, 5300.0), (50.0, -8.2, 5300.0), (30.0, -14.2, 5500.0), (35.0, -14.2, 5500.0), (40.0, -14.2, 5500.0), (45.0, -14.2, 5500.0), (50.0, -14.2, 5500.0), (30.0, -13.45, 5500.0), (35.0, -13.45, 5500.0), (40.0, -13.45, 5500.0), (45.0, -13.45, 5500.0), (50.0, -13.45, 5500.0), (30.0, -12.7, 5500.0), (35.0, -12.7, 5500.0), (40.0, -12.7, 5500.0), (45.0, -12.7, 5500.0), (50.0, -12.7, 5500.0), (30.0, -11.95, 5500.0), (35.0, -11.95, 5500.0), (40.0, -11.95, 5500.0), (45.0, -11.95, 5500.0), (50.0, -11.95, 5500.0), (30.0, -11.2, 5500.0), (35.0, -11.2, 5500.0), (40.0, -11.2, 5500.0), (45.0, -11.2, 5500.0), (50.0, -11.2, 5500.0), (30.0, -10.45, 5500.0), (35.0, -10.45, 5500.0), (40.0, -10.45, 5500.0), (45.0, -10.45, 5500.0), (50.0, -10.45, 5500.0), (30.0, -9.7, 5500.0), (35.0, -9.7, 5500.0), (40.0, -9.7, 5500.0), (45.0, -9.7, 5500.0), (50.0, -9.7, 5500.0), (30.0, -8.95, 5500.0), (35.0, -8.95, 5500.0), (40.0, -8.95, 5500.0), (45.0, -8.95, 5500.0), (50.0, -8.95, 5500.0), (30.0, -8.2, 5500.0), (35.0, -8.2, 5500.0), (40.0, -8.2, 5500.0), (45.0, -8.2, 5500.0), (50.0, -8.2, 5500.0)]\n"
     ]
    },
    {
     "data": {
      "text/plain": [
       "30.0"
      ]
     },
     "execution_count": 70,
     "metadata": {},
     "output_type": "execute_result"
    }
   ],
   "source": [
    "# tmp = all_exps[all_exps['drone_y_pos'] <= 2000]\n",
    "tmp = isolate(all_exps, {\"is_violation\": 1})\n",
    "plot_point_cloud(tmp, \"drone_speed\", \"drone_ascent_rate\", \"drone_response_distance\", \"Overtaking Vertical\", point_radius=20)\n",
    "\n",
    "tmp.drone_speed.min()"
   ]
  },
  {
   "cell_type": "code",
   "execution_count": null,
   "metadata": {},
   "outputs": [],
   "source": []
  },
  {
   "cell_type": "code",
   "execution_count": 71,
   "metadata": {},
   "outputs": [
    {
     "data": {
      "text/plain": [
       "array([30., 35., 40., 45., 50.])"
      ]
     },
     "execution_count": 71,
     "metadata": {},
     "output_type": "execute_result"
    }
   ],
   "source": [
    "all_exps.drone_speed.unique()"
   ]
  },
  {
   "cell_type": "code",
   "execution_count": 72,
   "metadata": {},
   "outputs": [
    {
     "data": {
      "text/plain": [
       "array([105., 109., 113., 117., 121., 125.])"
      ]
     },
     "execution_count": 72,
     "metadata": {},
     "output_type": "execute_result"
    }
   ],
   "source": [
    "all_exps.heli_speed.unique()"
   ]
  },
  {
   "cell_type": "code",
   "execution_count": 73,
   "metadata": {},
   "outputs": [
    {
     "ename": "AttributeError",
     "evalue": "'DataFrame' object has no attribute 'drone_x_pos'",
     "output_type": "error",
     "traceback": [
      "\u001b[1;31m---------------------------------------------------------------------------\u001b[0m",
      "\u001b[1;31mAttributeError\u001b[0m                            Traceback (most recent call last)",
      "\u001b[1;32m~\\AppData\\Local\\Temp\\ipykernel_72268\\3692021446.py\u001b[0m in \u001b[0;36m?\u001b[1;34m()\u001b[0m\n\u001b[1;32m----> 1\u001b[1;33m \u001b[0mall_exps\u001b[0m\u001b[1;33m.\u001b[0m\u001b[0mdrone_x_pos\u001b[0m\u001b[1;33m.\u001b[0m\u001b[0munique\u001b[0m\u001b[1;33m(\u001b[0m\u001b[1;33m)\u001b[0m\u001b[1;33m\u001b[0m\u001b[1;33m\u001b[0m\u001b[0m\n\u001b[0m",
      "\u001b[1;32m~\\AppData\\Roaming\\Python\\Python311\\site-packages\\pandas\\core\\generic.py\u001b[0m in \u001b[0;36m?\u001b[1;34m(self, name)\u001b[0m\n\u001b[0;32m   5898\u001b[0m             \u001b[1;32mand\u001b[0m \u001b[0mname\u001b[0m \u001b[1;32mnot\u001b[0m \u001b[1;32min\u001b[0m \u001b[0mself\u001b[0m\u001b[1;33m.\u001b[0m\u001b[0m_accessors\u001b[0m\u001b[1;33m\u001b[0m\u001b[1;33m\u001b[0m\u001b[0m\n\u001b[0;32m   5899\u001b[0m             \u001b[1;32mand\u001b[0m \u001b[0mself\u001b[0m\u001b[1;33m.\u001b[0m\u001b[0m_info_axis\u001b[0m\u001b[1;33m.\u001b[0m\u001b[0m_can_hold_identifiers_and_holds_name\u001b[0m\u001b[1;33m(\u001b[0m\u001b[0mname\u001b[0m\u001b[1;33m)\u001b[0m\u001b[1;33m\u001b[0m\u001b[1;33m\u001b[0m\u001b[0m\n\u001b[0;32m   5900\u001b[0m         ):\n\u001b[0;32m   5901\u001b[0m             \u001b[1;32mreturn\u001b[0m \u001b[0mself\u001b[0m\u001b[1;33m[\u001b[0m\u001b[0mname\u001b[0m\u001b[1;33m]\u001b[0m\u001b[1;33m\u001b[0m\u001b[1;33m\u001b[0m\u001b[0m\n\u001b[1;32m-> 5902\u001b[1;33m         \u001b[1;32mreturn\u001b[0m \u001b[0mobject\u001b[0m\u001b[1;33m.\u001b[0m\u001b[0m__getattribute__\u001b[0m\u001b[1;33m(\u001b[0m\u001b[0mself\u001b[0m\u001b[1;33m,\u001b[0m \u001b[0mname\u001b[0m\u001b[1;33m)\u001b[0m\u001b[1;33m\u001b[0m\u001b[1;33m\u001b[0m\u001b[0m\n\u001b[0m",
      "\u001b[1;31mAttributeError\u001b[0m: 'DataFrame' object has no attribute 'drone_x_pos'"
     ]
    }
   ],
   "source": [
    "all_exps.drone_x_pos.unique()"
   ]
  },
  {
   "cell_type": "code",
   "execution_count": null,
   "metadata": {},
   "outputs": [
    {
     "data": {
      "text/plain": [
       "52.8"
      ]
     },
     "execution_count": 33,
     "metadata": {},
     "output_type": "execute_result"
    }
   ],
   "source": [
    "# best = isolate(all_exps, {'is_violation': 0, 'drone_y_pos': 4000, 'drone_response_distance': 4200, 'heli_speed': 109})\n",
    "best = isolate(all_exps, \n",
    "    {\n",
    "        'is_violation': 1, \n",
    "        'drone_x_pos': 3600, \n",
    "        # \"drone_ascent_rate\": 14.0, \n",
    "        \"drone_speed\": 40.62, \n",
    "        # \"drone_response_distance\": 6250,\n",
    "        \"heli_speed\": 114.74\n",
    "})\n",
    "best.count()\n",
    "# best.drone_response_distance.min()\n",
    "# best = isolate(all_exps, {'is_violation': 0, 'drone_y_pos': 4000, 'drone_speed': 36, 'heli_speed': 118})\n",
    "# best.drone_ascent_rate.min()\n",
    "# isolate(all_exps, {\n",
    "#     'is_violation': 0,\n",
    "#     'drone_y_pos': 4000, \n",
    "#     \"drone_speed\": 40.6153, \n",
    "#     \"heli_speed\": 114.7383\n",
    "# }).drone_response_distance.min()\n",
    "# best.heli_speed\n",
    "# speeds = best.drone_speed.to_numpy()\n",
    "# speeds.sort()\n",
    "# speeds\n",
    "# best[(best.drone_response_distance == 4200)]\n",
    "\n",
    "isolate(all_exps, {'is_violation': 1, 'drone_response_distance': 4000})\n",
    "\n",
    "all_exps.drone_speed.min()"
   ]
  },
  {
   "cell_type": "code",
   "execution_count": null,
   "metadata": {},
   "outputs": [
    {
     "data": {
      "text/plain": [
       "step                          2592\n",
       "contactLevel                  2592\n",
       "contactEvents                 2592\n",
       "drone_speed                   2592\n",
       "drone_horizontal_turn_rate    2592\n",
       "heli_speed                    2592\n",
       "drone_response_distance       2592\n",
       "is_violation                  2592\n",
       "dtype: int64"
      ]
     },
     "execution_count": 51,
     "metadata": {},
     "output_type": "execute_result"
    }
   ],
   "source": [
    "isolate(all_exps, {\"is_violation\": 1}).count()"
   ]
  },
  {
   "cell_type": "code",
   "execution_count": null,
   "metadata": {},
   "outputs": [
    {
     "data": {
      "text/plain": [
       "step                          0\n",
       "contactLevel                  0\n",
       "contactEvents                 0\n",
       "drone_speed                   0\n",
       "drone_horizontal_turn_rate    0\n",
       "heli_speed                    0\n",
       "drone_response_distance       0\n",
       "is_violation                  0\n",
       "dtype: int64"
      ]
     },
     "execution_count": 52,
     "metadata": {},
     "output_type": "execute_result"
    }
   ],
   "source": [
    "isolate(all_exps, {\"is_violation\": 0}).count()"
   ]
  }
 ],
 "metadata": {
  "kernelspec": {
   "display_name": "Python 3",
   "language": "python",
   "name": "python3"
  },
  "language_info": {
   "codemirror_mode": {
    "name": "ipython",
    "version": 3
   },
   "file_extension": ".py",
   "mimetype": "text/x-python",
   "name": "python",
   "nbconvert_exporter": "python",
   "pygments_lexer": "ipython3",
   "version": "3.11.1"
  }
 },
 "nbformat": 4,
 "nbformat_minor": 2
}
